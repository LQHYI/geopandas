{
 "cells": [
  {
   "cell_type": "code",
   "execution_count": 3,
   "id": "05d3579d-00fc-49eb-8e92-c38fbce6f959",
   "metadata": {},
   "outputs": [],
   "source": [
    "import geopandas as gpd\n",
    "import pandas as pd\n",
    "import numpy as np\n",
    "from matplotlib import pyplot as plt\n",
    "import random\n",
    "import multiprocessing as mp"
   ]
  },
  {
   "cell_type": "code",
   "execution_count": 4,
   "id": "61a616eb-f112-4868-81b6-04d527193fa6",
   "metadata": {},
   "outputs": [],
   "source": [
    "lat_list = random.sample([36.5+i*0.1 for i in range(30)], 10) \n",
    "lon_list = random.sample([-83+i*0.1 for i in range(80)], 10)"
   ]
  },
  {
   "cell_type": "code",
   "execution_count": 5,
   "id": "c0f8065f-f493-4f23-b901-f764632b6b12",
   "metadata": {},
   "outputs": [],
   "source": [
    "lat_list_df = lat_list*10\n",
    "lon_list_tem = [[i]*10 for i in lon_list]"
   ]
  },
  {
   "cell_type": "code",
   "execution_count": 6,
   "id": "aa5be71a-20ad-4d0b-aae9-9f907e84d2ad",
   "metadata": {},
   "outputs": [],
   "source": [
    "lon_list_df = []\n",
    "for i in range(len(lon_list_tem)):\n",
    "    lon_list_df += lon_list_tem[i]"
   ]
  },
  {
   "cell_type": "code",
   "execution_count": 7,
   "id": "d9790bdf-1ffc-4091-b677-0dd43c3a7392",
   "metadata": {},
   "outputs": [],
   "source": [
    "df_point = pd.DataFrame({\"lat\":lat_list_df, \"lon\":lon_list_df})"
   ]
  },
  {
   "cell_type": "code",
   "execution_count": 8,
   "id": "a19eed0e-0cb1-4682-814b-34635f55d3df",
   "metadata": {},
   "outputs": [],
   "source": [
    "gdf_point = gpd.GeoDataFrame(df_point, geometry = gpd.points_from_xy(df_point.lon, df_point.lat, crs = \"EPSG:4326\"))"
   ]
  },
  {
   "cell_type": "code",
   "execution_count": 9,
   "id": "47708454-df5a-4a1b-a59e-78958b693965",
   "metadata": {},
   "outputs": [
    {
     "data": {
      "text/plain": [
       "<AxesSubplot:>"
      ]
     },
     "execution_count": 9,
     "metadata": {},
     "output_type": "execute_result"
    },
    {
     "data": {
      "image/png": "[encoded data removed]",
      "text/plain": [
       "<Figure size 640x480 with 1 Axes>"
      ]
     },
     "metadata": {},
     "output_type": "display_data"
    }
   ],
   "source": [
    "gdf_point.plot()"
   ]
  },
  {
   "cell_type": "code",
   "execution_count": 10,
   "id": "6d76576a-0fd1-4d1f-b439-bd2df1768fa3",
   "metadata": {},
   "outputs": [
    {
     "name": "stdout",
     "output_type": "stream",
     "text": [
      "CPU times: total: 156 ms\n",
      "Wall time: 137 ms\n"
     ]
    }
   ],
   "source": [
    "%time gdf_county = gpd.read_file(\"./Virginia_City_County_Census_Boundaries/SDE_USDC_CENSUS_VA_COUNTY.shp\")"
   ]
  },
  {
   "cell_type": "code",
   "execution_count": 11,
   "id": "221ba874-474e-4f9d-9ae6-f9fa0e5d87e5",
   "metadata": {},
   "outputs": [
    {
     "data": {
      "text/html": [
       "<div>\n",
       "<style scoped>\n",
       "    .dataframe tbody tr th:only-of-type {\n",
       "        vertical-align: middle;\n",
       "    }\n",
       "\n",
       "    .dataframe tbody tr th {\n",
       "        vertical-align: top;\n",
       "    }\n",
       "\n",
       "    .dataframe thead th {\n",
       "        text-align: right;\n",
       "    }\n",
       "</style>\n",
       "<table border=\"1\" class=\"dataframe\">\n",
       "  <thead>\n",
       "    <tr style=\"text-align: right;\">\n",
       "      <th></th>\n",
       "      <th>FID</th>\n",
       "      <th>STATEFP</th>\n",
       "      <th>COUNTYFP</th>\n",
       "      <th>COUNTYNS</th>\n",
       "      <th>GEOID</th>\n",
       "      <th>NAME</th>\n",
       "      <th>NAMELSAD</th>\n",
       "      <th>LSAD</th>\n",
       "      <th>CLASSFP</th>\n",
       "      <th>MTFCC</th>\n",
       "      <th>...</th>\n",
       "      <th>CBSAFP</th>\n",
       "      <th>METDIVFP</th>\n",
       "      <th>FUNCSTAT</th>\n",
       "      <th>ALAND</th>\n",
       "      <th>AWATER</th>\n",
       "      <th>INTPTLAT</th>\n",
       "      <th>INTPTLON</th>\n",
       "      <th>SHAPE_Leng</th>\n",
       "      <th>SHAPE_Area</th>\n",
       "      <th>geometry</th>\n",
       "    </tr>\n",
       "  </thead>\n",
       "  <tbody>\n",
       "    <tr>\n",
       "      <th>0</th>\n",
       "      <td>1</td>\n",
       "      <td>51</td>\n",
       "      <td>640</td>\n",
       "      <td>01498426</td>\n",
       "      <td>51640</td>\n",
       "      <td>Galax</td>\n",
       "      <td>Galax city</td>\n",
       "      <td>25</td>\n",
       "      <td>C7</td>\n",
       "      <td>G4020</td>\n",
       "      <td>...</td>\n",
       "      <td>None</td>\n",
       "      <td>None</td>\n",
       "      <td>F</td>\n",
       "      <td>21340448.0</td>\n",
       "      <td>103781.0</td>\n",
       "      <td>+36.6656397</td>\n",
       "      <td>-080.9143083</td>\n",
       "      <td>0.323268</td>\n",
       "      <td>3.339356e+07</td>\n",
       "      <td>POLYGON ((-80.91845 36.68327, -80.91828 36.683...</td>\n",
       "    </tr>\n",
       "    <tr>\n",
       "      <th>1</th>\n",
       "      <td>2</td>\n",
       "      <td>51</td>\n",
       "      <td>760</td>\n",
       "      <td>01789073</td>\n",
       "      <td>51760</td>\n",
       "      <td>Richmond</td>\n",
       "      <td>Richmond city</td>\n",
       "      <td>25</td>\n",
       "      <td>C7</td>\n",
       "      <td>G4020</td>\n",
       "      <td>...</td>\n",
       "      <td>40060</td>\n",
       "      <td>None</td>\n",
       "      <td>F</td>\n",
       "      <td>154894698.0</td>\n",
       "      <td>6880310.0</td>\n",
       "      <td>+37.5313990</td>\n",
       "      <td>-077.4760085</td>\n",
       "      <td>0.869075</td>\n",
       "      <td>2.576779e+08</td>\n",
       "      <td>POLYGON ((-77.54090 37.57216, -77.54094 37.572...</td>\n",
       "    </tr>\n",
       "  </tbody>\n",
       "</table>\n",
       "<p>2 rows × 21 columns</p>\n",
       "</div>"
      ],
      "text/plain": [
       "   FID STATEFP COUNTYFP  COUNTYNS  GEOID      NAME       NAMELSAD LSAD  \\\n",
       "0    1      51      640  01498426  51640     Galax     Galax city   25   \n",
       "1    2      51      760  01789073  51760  Richmond  Richmond city   25   \n",
       "\n",
       "  CLASSFP  MTFCC  ... CBSAFP METDIVFP FUNCSTAT        ALAND     AWATER  \\\n",
       "0      C7  G4020  ...   None     None        F   21340448.0   103781.0   \n",
       "1      C7  G4020  ...  40060     None        F  154894698.0  6880310.0   \n",
       "\n",
       "      INTPTLAT      INTPTLON SHAPE_Leng    SHAPE_Area  \\\n",
       "0  +36.6656397  -080.9143083   0.323268  3.339356e+07   \n",
       "1  +37.5313990  -077.4760085   0.869075  2.576779e+08   \n",
       "\n",
       "                                            geometry  \n",
       "0  POLYGON ((-80.91845 36.68327, -80.91828 36.683...  \n",
       "1  POLYGON ((-77.54090 37.57216, -77.54094 37.572...  \n",
       "\n",
       "[2 rows x 21 columns]"
      ]
     },
     "execution_count": 11,
     "metadata": {},
     "output_type": "execute_result"
    }
   ],
   "source": [
    "gdf_county.head(2)"
   ]
  },
  {
   "cell_type": "code",
   "execution_count": 12,
   "id": "c3cbd05b-f27b-4ccd-8204-f8f1ad273f94",
   "metadata": {},
   "outputs": [],
   "source": [
    "gdf_point[\"idx\"] = range(gdf_point.shape[0])"
   ]
  },
  {
   "cell_type": "code",
   "execution_count": 13,
   "id": "b4cdc5b2-55f5-45d7-9b71-3a33cd01f7cf",
   "metadata": {},
   "outputs": [],
   "source": [
    "import time\n",
    "import warnings \n",
    "warnings.filterwarnings(\"ignore\")"
   ]
  },
  {
   "cell_type": "code",
   "execution_count": 14,
   "id": "8583255a-a05e-4009-99e5-c489cbdc3fe4",
   "metadata": {},
   "outputs": [
    {
     "name": "stdout",
     "output_type": "stream",
     "text": [
      "2.1406795978546143\n"
     ]
    }
   ],
   "source": [
    "ts = time.time()\n",
    "gdf_list = []\n",
    "for i in range(100):\n",
    "    gdf_tem = gdf_point[i:i+1]\n",
    "    gdf_tem[\"county\"] = gpd.sjoin(gdf_tem, gdf_county[[\"NAMELSAD\", \"geometry\"]], how = \"left\", op = \"intersects\").drop_duplicates(subset = [\"idx\"])[\"NAMELSAD\"]\n",
    "    gdf_list.append(gdf_tem)\n",
    "te = time.time()\n",
    "print(te-ts)"
   ]
  },
  {
   "cell_type": "code",
   "execution_count": 15,
   "id": "e4ab420a-f646-4aeb-8916-a706201845cd",
   "metadata": {},
   "outputs": [],
   "source": [
    "gdf_point_merge = pd.concat(gdf_list)"
   ]
  },
  {
   "cell_type": "code",
   "execution_count": 16,
   "id": "50f67f09-441c-49fe-8f21-b3ec2eadef99",
   "metadata": {},
   "outputs": [
    {
     "data": {
      "text/html": [
       "<div>\n",
       "<style scoped>\n",
       "    .dataframe tbody tr th:only-of-type {\n",
       "        vertical-align: middle;\n",
       "    }\n",
       "\n",
       "    .dataframe tbody tr th {\n",
       "        vertical-align: top;\n",
       "    }\n",
       "\n",
       "    .dataframe thead th {\n",
       "        text-align: right;\n",
       "    }\n",
       "</style>\n",
       "<table border=\"1\" class=\"dataframe\">\n",
       "  <thead>\n",
       "    <tr style=\"text-align: right;\">\n",
       "      <th></th>\n",
       "      <th>lat</th>\n",
       "      <th>lon</th>\n",
       "      <th>geometry</th>\n",
       "      <th>idx</th>\n",
       "      <th>county</th>\n",
       "    </tr>\n",
       "  </thead>\n",
       "  <tbody>\n",
       "    <tr>\n",
       "      <th>0</th>\n",
       "      <td>36.6</td>\n",
       "      <td>-79.8</td>\n",
       "      <td>POINT (-79.80000 36.60000)</td>\n",
       "      <td>0</td>\n",
       "      <td>Henry County</td>\n",
       "    </tr>\n",
       "    <tr>\n",
       "      <th>1</th>\n",
       "      <td>37.2</td>\n",
       "      <td>-79.8</td>\n",
       "      <td>POINT (-79.80000 37.20000)</td>\n",
       "      <td>1</td>\n",
       "      <td>Franklin County</td>\n",
       "    </tr>\n",
       "    <tr>\n",
       "      <th>2</th>\n",
       "      <td>39.4</td>\n",
       "      <td>-79.8</td>\n",
       "      <td>POINT (-79.80000 39.40000)</td>\n",
       "      <td>2</td>\n",
       "      <td>NaN</td>\n",
       "    </tr>\n",
       "    <tr>\n",
       "      <th>3</th>\n",
       "      <td>37.6</td>\n",
       "      <td>-79.8</td>\n",
       "      <td>POINT (-79.80000 37.60000)</td>\n",
       "      <td>3</td>\n",
       "      <td>Botetourt County</td>\n",
       "    </tr>\n",
       "    <tr>\n",
       "      <th>4</th>\n",
       "      <td>38.4</td>\n",
       "      <td>-79.8</td>\n",
       "      <td>POINT (-79.80000 38.40000)</td>\n",
       "      <td>4</td>\n",
       "      <td>NaN</td>\n",
       "    </tr>\n",
       "    <tr>\n",
       "      <th>...</th>\n",
       "      <td>...</td>\n",
       "      <td>...</td>\n",
       "      <td>...</td>\n",
       "      <td>...</td>\n",
       "      <td>...</td>\n",
       "    </tr>\n",
       "    <tr>\n",
       "      <th>95</th>\n",
       "      <td>37.1</td>\n",
       "      <td>-76.7</td>\n",
       "      <td>POINT (-76.70000 37.10000)</td>\n",
       "      <td>95</td>\n",
       "      <td>Surry County</td>\n",
       "    </tr>\n",
       "    <tr>\n",
       "      <th>96</th>\n",
       "      <td>38.7</td>\n",
       "      <td>-76.7</td>\n",
       "      <td>POINT (-76.70000 38.70000)</td>\n",
       "      <td>96</td>\n",
       "      <td>NaN</td>\n",
       "    </tr>\n",
       "    <tr>\n",
       "      <th>97</th>\n",
       "      <td>37.5</td>\n",
       "      <td>-76.7</td>\n",
       "      <td>POINT (-76.70000 37.50000)</td>\n",
       "      <td>97</td>\n",
       "      <td>King and Queen County</td>\n",
       "    </tr>\n",
       "    <tr>\n",
       "      <th>98</th>\n",
       "      <td>38.1</td>\n",
       "      <td>-76.7</td>\n",
       "      <td>POINT (-76.70000 38.10000)</td>\n",
       "      <td>98</td>\n",
       "      <td>Westmoreland County</td>\n",
       "    </tr>\n",
       "    <tr>\n",
       "      <th>99</th>\n",
       "      <td>37.4</td>\n",
       "      <td>-76.7</td>\n",
       "      <td>POINT (-76.70000 37.40000)</td>\n",
       "      <td>99</td>\n",
       "      <td>James City County</td>\n",
       "    </tr>\n",
       "  </tbody>\n",
       "</table>\n",
       "<p>100 rows × 5 columns</p>\n",
       "</div>"
      ],
      "text/plain": [
       "     lat   lon                    geometry  idx                 county\n",
       "0   36.6 -79.8  POINT (-79.80000 36.60000)    0           Henry County\n",
       "1   37.2 -79.8  POINT (-79.80000 37.20000)    1        Franklin County\n",
       "2   39.4 -79.8  POINT (-79.80000 39.40000)    2                    NaN\n",
       "3   37.6 -79.8  POINT (-79.80000 37.60000)    3       Botetourt County\n",
       "4   38.4 -79.8  POINT (-79.80000 38.40000)    4                    NaN\n",
       "..   ...   ...                         ...  ...                    ...\n",
       "95  37.1 -76.7  POINT (-76.70000 37.10000)   95           Surry County\n",
       "96  38.7 -76.7  POINT (-76.70000 38.70000)   96                    NaN\n",
       "97  37.5 -76.7  POINT (-76.70000 37.50000)   97  King and Queen County\n",
       "98  38.1 -76.7  POINT (-76.70000 38.10000)   98    Westmoreland County\n",
       "99  37.4 -76.7  POINT (-76.70000 37.40000)   99      James City County\n",
       "\n",
       "[100 rows x 5 columns]"
      ]
     },
     "execution_count": 16,
     "metadata": {},
     "output_type": "execute_result"
    }
   ],
   "source": [
    "gdf_point_merge"
   ]
  },
  {
   "cell_type": "code",
   "execution_count": 17,
   "id": "4f7a050c-d942-401f-832e-3fb204f2baf6",
   "metadata": {},
   "outputs": [],
   "source": [
    "### point to polygon merge function\n",
    "def point_match(gdf_tem):\n",
    "    gdf_tem[\"county\"] = gpd.sjoin(gdf_tem, gdf_county[[\"NAMELSAD\", \"geometry\"]], how = \"left\", op = \"intersects\").drop_duplicates(subset = [\"idx\"])[\"NAMELSAD\"]\n",
    "    return gdf_tem"
   ]
  },
  {
   "cell_type": "code",
   "execution_count": null,
   "id": "48539dd3-dd2d-4034-b197-134c9bab9ca6",
   "metadata": {},
   "outputs": [],
   "source": [
    "ts = time.time()\n",
    "pool = mp.Pool(10)\n",
    "results = pool.map(point_match, [gdf_point[i:i+1] for i in range(gdf_point.shape[0])])\n",
    "pool.close()\n",
    "te = time.time()\n",
    "print(te-ts)"
   ]
  },
  {
   "cell_type": "code",
   "execution_count": 39,
   "id": "d3f2dd16-a9b0-4e82-b90e-cc52c3448de0",
   "metadata": {},
   "outputs": [
    {
     "data": {
      "text/plain": [
       "20"
      ]
     },
     "execution_count": 39,
     "metadata": {},
     "output_type": "execute_result"
    }
   ],
   "source": [
    "mp.cpu_count()"
   ]
  },
  {
   "cell_type": "code",
   "execution_count": 6,
   "id": "1d88e6fa-768b-4ff0-baeb-f776e5be2f18",
   "metadata": {},
   "outputs": [
    {
     "data": {
      "text/plain": [
       "Index(['FID', 'STATEFP', 'COUNTYFP', 'COUNTYNS', 'GEOID', 'NAME', 'NAMELSAD',\n",
       "       'LSAD', 'CLASSFP', 'MTFCC', 'CSAFP', 'CBSAFP', 'METDIVFP', 'FUNCSTAT',\n",
       "       'ALAND', 'AWATER', 'INTPTLAT', 'INTPTLON', 'SHAPE_Leng', 'SHAPE_Area',\n",
       "       'geometry'],\n",
       "      dtype='object')"
      ]
     },
     "execution_count": 6,
     "metadata": {},
     "output_type": "execute_result"
    }
   ],
   "source": [
    "gdb.columns"
   ]
  },
  {
   "cell_type": "code",
   "execution_count": 5,
   "id": "48d5c2f4-1988-47f5-aa5b-0d78faaea110",
   "metadata": {},
   "outputs": [
    {
     "name": "stdout",
     "output_type": "stream",
     "text": [
      "epsg:4326\n"
     ]
    }
   ],
   "source": [
    "print(gdb.crs)"
   ]
  },
  {
   "cell_type": "code",
   "execution_count": 11,
   "id": "c9cb34eb-863d-40a4-abff-bffaf7b59b00",
   "metadata": {},
   "outputs": [
    {
     "data": {
      "text/html": [
       "<div>\n",
       "<style scoped>\n",
       "    .dataframe tbody tr th:only-of-type {\n",
       "        vertical-align: middle;\n",
       "    }\n",
       "\n",
       "    .dataframe tbody tr th {\n",
       "        vertical-align: top;\n",
       "    }\n",
       "\n",
       "    .dataframe thead th {\n",
       "        text-align: right;\n",
       "    }\n",
       "</style>\n",
       "<table border=\"1\" class=\"dataframe\">\n",
       "  <thead>\n",
       "    <tr style=\"text-align: right;\">\n",
       "      <th></th>\n",
       "      <th>FID</th>\n",
       "      <th>STATEFP</th>\n",
       "      <th>COUNTYFP</th>\n",
       "      <th>COUNTYNS</th>\n",
       "      <th>GEOID</th>\n",
       "      <th>NAME</th>\n",
       "      <th>NAMELSAD</th>\n",
       "      <th>LSAD</th>\n",
       "      <th>CLASSFP</th>\n",
       "      <th>MTFCC</th>\n",
       "      <th>...</th>\n",
       "      <th>CBSAFP</th>\n",
       "      <th>METDIVFP</th>\n",
       "      <th>FUNCSTAT</th>\n",
       "      <th>ALAND</th>\n",
       "      <th>AWATER</th>\n",
       "      <th>INTPTLAT</th>\n",
       "      <th>INTPTLON</th>\n",
       "      <th>SHAPE_Leng</th>\n",
       "      <th>SHAPE_Area</th>\n",
       "      <th>geometry</th>\n",
       "    </tr>\n",
       "  </thead>\n",
       "  <tbody>\n",
       "    <tr>\n",
       "      <th>0</th>\n",
       "      <td>1</td>\n",
       "      <td>51</td>\n",
       "      <td>640</td>\n",
       "      <td>01498426</td>\n",
       "      <td>51640</td>\n",
       "      <td>Galax</td>\n",
       "      <td>Galax city</td>\n",
       "      <td>25</td>\n",
       "      <td>C7</td>\n",
       "      <td>G4020</td>\n",
       "      <td>...</td>\n",
       "      <td>None</td>\n",
       "      <td>None</td>\n",
       "      <td>F</td>\n",
       "      <td>2.134045e+07</td>\n",
       "      <td>1.037810e+05</td>\n",
       "      <td>+36.6656397</td>\n",
       "      <td>-080.9143083</td>\n",
       "      <td>0.323268</td>\n",
       "      <td>3.339356e+07</td>\n",
       "      <td>POLYGON ((-80.91845 36.68327, -80.91828 36.683...</td>\n",
       "    </tr>\n",
       "    <tr>\n",
       "      <th>1</th>\n",
       "      <td>2</td>\n",
       "      <td>51</td>\n",
       "      <td>760</td>\n",
       "      <td>01789073</td>\n",
       "      <td>51760</td>\n",
       "      <td>Richmond</td>\n",
       "      <td>Richmond city</td>\n",
       "      <td>25</td>\n",
       "      <td>C7</td>\n",
       "      <td>G4020</td>\n",
       "      <td>...</td>\n",
       "      <td>40060</td>\n",
       "      <td>None</td>\n",
       "      <td>F</td>\n",
       "      <td>1.548947e+08</td>\n",
       "      <td>6.880310e+06</td>\n",
       "      <td>+37.5313990</td>\n",
       "      <td>-077.4760085</td>\n",
       "      <td>0.869075</td>\n",
       "      <td>2.576779e+08</td>\n",
       "      <td>POLYGON ((-77.54090 37.57216, -77.54094 37.572...</td>\n",
       "    </tr>\n",
       "    <tr>\n",
       "      <th>2</th>\n",
       "      <td>3</td>\n",
       "      <td>51</td>\n",
       "      <td>670</td>\n",
       "      <td>01498428</td>\n",
       "      <td>51670</td>\n",
       "      <td>Hopewell</td>\n",
       "      <td>Hopewell city</td>\n",
       "      <td>25</td>\n",
       "      <td>C7</td>\n",
       "      <td>G4020</td>\n",
       "      <td>...</td>\n",
       "      <td>40060</td>\n",
       "      <td>None</td>\n",
       "      <td>F</td>\n",
       "      <td>2.662050e+07</td>\n",
       "      <td>1.357033e+06</td>\n",
       "      <td>+37.2910098</td>\n",
       "      <td>-077.2989443</td>\n",
       "      <td>0.308512</td>\n",
       "      <td>4.428314e+07</td>\n",
       "      <td>POLYGON ((-77.27031 37.30895, -77.26995 37.308...</td>\n",
       "    </tr>\n",
       "    <tr>\n",
       "      <th>3</th>\n",
       "      <td>4</td>\n",
       "      <td>51</td>\n",
       "      <td>131</td>\n",
       "      <td>01480151</td>\n",
       "      <td>51131</td>\n",
       "      <td>Northampton</td>\n",
       "      <td>Northampton County</td>\n",
       "      <td>06</td>\n",
       "      <td>H1</td>\n",
       "      <td>G4020</td>\n",
       "      <td>...</td>\n",
       "      <td>None</td>\n",
       "      <td>None</td>\n",
       "      <td>A</td>\n",
       "      <td>5.480730e+08</td>\n",
       "      <td>1.511612e+09</td>\n",
       "      <td>+37.3026286</td>\n",
       "      <td>-075.9238683</td>\n",
       "      <td>2.023683</td>\n",
       "      <td>3.260949e+09</td>\n",
       "      <td>POLYGON ((-76.13586 37.23202, -76.13601 37.250...</td>\n",
       "    </tr>\n",
       "    <tr>\n",
       "      <th>4</th>\n",
       "      <td>5</td>\n",
       "      <td>51</td>\n",
       "      <td>187</td>\n",
       "      <td>01674058</td>\n",
       "      <td>51187</td>\n",
       "      <td>Warren</td>\n",
       "      <td>Warren County</td>\n",
       "      <td>06</td>\n",
       "      <td>H1</td>\n",
       "      <td>G4020</td>\n",
       "      <td>...</td>\n",
       "      <td>47900</td>\n",
       "      <td>47894</td>\n",
       "      <td>A</td>\n",
       "      <td>5.525184e+08</td>\n",
       "      <td>8.483501e+06</td>\n",
       "      <td>+38.9081874</td>\n",
       "      <td>-078.2071314</td>\n",
       "      <td>1.253168</td>\n",
       "      <td>9.278171e+08</td>\n",
       "      <td>POLYGON ((-78.05925 38.93240, -78.06008 38.932...</td>\n",
       "    </tr>\n",
       "    <tr>\n",
       "      <th>...</th>\n",
       "      <td>...</td>\n",
       "      <td>...</td>\n",
       "      <td>...</td>\n",
       "      <td>...</td>\n",
       "      <td>...</td>\n",
       "      <td>...</td>\n",
       "      <td>...</td>\n",
       "      <td>...</td>\n",
       "      <td>...</td>\n",
       "      <td>...</td>\n",
       "      <td>...</td>\n",
       "      <td>...</td>\n",
       "      <td>...</td>\n",
       "      <td>...</td>\n",
       "      <td>...</td>\n",
       "      <td>...</td>\n",
       "      <td>...</td>\n",
       "      <td>...</td>\n",
       "      <td>...</td>\n",
       "      <td>...</td>\n",
       "      <td>...</td>\n",
       "    </tr>\n",
       "    <tr>\n",
       "      <th>129</th>\n",
       "      <td>130</td>\n",
       "      <td>51</td>\n",
       "      <td>197</td>\n",
       "      <td>01501379</td>\n",
       "      <td>51197</td>\n",
       "      <td>Wythe</td>\n",
       "      <td>Wythe County</td>\n",
       "      <td>06</td>\n",
       "      <td>H1</td>\n",
       "      <td>G4020</td>\n",
       "      <td>...</td>\n",
       "      <td>None</td>\n",
       "      <td>None</td>\n",
       "      <td>A</td>\n",
       "      <td>1.196119e+09</td>\n",
       "      <td>7.311856e+06</td>\n",
       "      <td>+36.9014709</td>\n",
       "      <td>-081.0842090</td>\n",
       "      <td>1.637947</td>\n",
       "      <td>1.886215e+09</td>\n",
       "      <td>POLYGON ((-80.78937 36.93296, -80.78924 36.932...</td>\n",
       "    </tr>\n",
       "    <tr>\n",
       "      <th>130</th>\n",
       "      <td>131</td>\n",
       "      <td>51</td>\n",
       "      <td>027</td>\n",
       "      <td>01497431</td>\n",
       "      <td>51027</td>\n",
       "      <td>Buchanan</td>\n",
       "      <td>Buchanan County</td>\n",
       "      <td>06</td>\n",
       "      <td>H1</td>\n",
       "      <td>G4020</td>\n",
       "      <td>...</td>\n",
       "      <td>None</td>\n",
       "      <td>None</td>\n",
       "      <td>A</td>\n",
       "      <td>1.302149e+09</td>\n",
       "      <td>2.798059e+06</td>\n",
       "      <td>+37.2681198</td>\n",
       "      <td>-082.0381508</td>\n",
       "      <td>2.274797</td>\n",
       "      <td>2.064149e+09</td>\n",
       "      <td>POLYGON ((-82.15786 37.11023, -82.15789 37.110...</td>\n",
       "    </tr>\n",
       "    <tr>\n",
       "      <th>131</th>\n",
       "      <td>132</td>\n",
       "      <td>51</td>\n",
       "      <td>071</td>\n",
       "      <td>01494551</td>\n",
       "      <td>51071</td>\n",
       "      <td>Giles</td>\n",
       "      <td>Giles County</td>\n",
       "      <td>06</td>\n",
       "      <td>H1</td>\n",
       "      <td>G4020</td>\n",
       "      <td>...</td>\n",
       "      <td>13980</td>\n",
       "      <td>None</td>\n",
       "      <td>A</td>\n",
       "      <td>9.214691e+08</td>\n",
       "      <td>1.201697e+07</td>\n",
       "      <td>+37.3119298</td>\n",
       "      <td>-080.7171778</td>\n",
       "      <td>1.638890</td>\n",
       "      <td>1.478419e+09</td>\n",
       "      <td>POLYGON ((-80.97784 37.24880, -80.97939 37.250...</td>\n",
       "    </tr>\n",
       "    <tr>\n",
       "      <th>132</th>\n",
       "      <td>133</td>\n",
       "      <td>51</td>\n",
       "      <td>117</td>\n",
       "      <td>01500747</td>\n",
       "      <td>51117</td>\n",
       "      <td>Mecklenburg</td>\n",
       "      <td>Mecklenburg County</td>\n",
       "      <td>06</td>\n",
       "      <td>H1</td>\n",
       "      <td>G4020</td>\n",
       "      <td>...</td>\n",
       "      <td>None</td>\n",
       "      <td>None</td>\n",
       "      <td>A</td>\n",
       "      <td>1.619999e+09</td>\n",
       "      <td>1.391943e+08</td>\n",
       "      <td>+36.6872563</td>\n",
       "      <td>-078.3689592</td>\n",
       "      <td>2.348411</td>\n",
       "      <td>2.740484e+09</td>\n",
       "      <td>POLYGON ((-78.63061 36.72024, -78.63060 36.720...</td>\n",
       "    </tr>\n",
       "    <tr>\n",
       "      <th>133</th>\n",
       "      <td>134</td>\n",
       "      <td>51</td>\n",
       "      <td>077</td>\n",
       "      <td>01501196</td>\n",
       "      <td>51077</td>\n",
       "      <td>Grayson</td>\n",
       "      <td>Grayson County</td>\n",
       "      <td>06</td>\n",
       "      <td>H1</td>\n",
       "      <td>G4020</td>\n",
       "      <td>...</td>\n",
       "      <td>None</td>\n",
       "      <td>None</td>\n",
       "      <td>A</td>\n",
       "      <td>1.145228e+09</td>\n",
       "      <td>9.790850e+06</td>\n",
       "      <td>+36.6563026</td>\n",
       "      <td>-081.2253365</td>\n",
       "      <td>2.094214</td>\n",
       "      <td>1.798191e+09</td>\n",
       "      <td>POLYGON ((-81.20393 36.57193, -81.20432 36.571...</td>\n",
       "    </tr>\n",
       "  </tbody>\n",
       "</table>\n",
       "<p>134 rows × 21 columns</p>\n",
       "</div>"
      ],
      "text/plain": [
       "     FID STATEFP COUNTYFP  COUNTYNS  GEOID         NAME            NAMELSAD  \\\n",
       "0      1      51      640  01498426  51640        Galax          Galax city   \n",
       "1      2      51      760  01789073  51760     Richmond       Richmond city   \n",
       "2      3      51      670  01498428  51670     Hopewell       Hopewell city   \n",
       "3      4      51      131  01480151  51131  Northampton  Northampton County   \n",
       "4      5      51      187  01674058  51187       Warren       Warren County   \n",
       "..   ...     ...      ...       ...    ...          ...                 ...   \n",
       "129  130      51      197  01501379  51197        Wythe        Wythe County   \n",
       "130  131      51      027  01497431  51027     Buchanan     Buchanan County   \n",
       "131  132      51      071  01494551  51071        Giles        Giles County   \n",
       "132  133      51      117  01500747  51117  Mecklenburg  Mecklenburg County   \n",
       "133  134      51      077  01501196  51077      Grayson      Grayson County   \n",
       "\n",
       "    LSAD CLASSFP  MTFCC  ... CBSAFP METDIVFP FUNCSTAT         ALAND  \\\n",
       "0     25      C7  G4020  ...   None     None        F  2.134045e+07   \n",
       "1     25      C7  G4020  ...  40060     None        F  1.548947e+08   \n",
       "2     25      C7  G4020  ...  40060     None        F  2.662050e+07   \n",
       "3     06      H1  G4020  ...   None     None        A  5.480730e+08   \n",
       "4     06      H1  G4020  ...  47900    47894        A  5.525184e+08   \n",
       "..   ...     ...    ...  ...    ...      ...      ...           ...   \n",
       "129   06      H1  G4020  ...   None     None        A  1.196119e+09   \n",
       "130   06      H1  G4020  ...   None     None        A  1.302149e+09   \n",
       "131   06      H1  G4020  ...  13980     None        A  9.214691e+08   \n",
       "132   06      H1  G4020  ...   None     None        A  1.619999e+09   \n",
       "133   06      H1  G4020  ...   None     None        A  1.145228e+09   \n",
       "\n",
       "           AWATER     INTPTLAT      INTPTLON SHAPE_Leng    SHAPE_Area  \\\n",
       "0    1.037810e+05  +36.6656397  -080.9143083   0.323268  3.339356e+07   \n",
       "1    6.880310e+06  +37.5313990  -077.4760085   0.869075  2.576779e+08   \n",
       "2    1.357033e+06  +37.2910098  -077.2989443   0.308512  4.428314e+07   \n",
       "3    1.511612e+09  +37.3026286  -075.9238683   2.023683  3.260949e+09   \n",
       "4    8.483501e+06  +38.9081874  -078.2071314   1.253168  9.278171e+08   \n",
       "..            ...          ...           ...        ...           ...   \n",
       "129  7.311856e+06  +36.9014709  -081.0842090   1.637947  1.886215e+09   \n",
       "130  2.798059e+06  +37.2681198  -082.0381508   2.274797  2.064149e+09   \n",
       "131  1.201697e+07  +37.3119298  -080.7171778   1.638890  1.478419e+09   \n",
       "132  1.391943e+08  +36.6872563  -078.3689592   2.348411  2.740484e+09   \n",
       "133  9.790850e+06  +36.6563026  -081.2253365   2.094214  1.798191e+09   \n",
       "\n",
       "                                              geometry  \n",
       "0    POLYGON ((-80.91845 36.68327, -80.91828 36.683...  \n",
       "1    POLYGON ((-77.54090 37.57216, -77.54094 37.572...  \n",
       "2    POLYGON ((-77.27031 37.30895, -77.26995 37.308...  \n",
       "3    POLYGON ((-76.13586 37.23202, -76.13601 37.250...  \n",
       "4    POLYGON ((-78.05925 38.93240, -78.06008 38.932...  \n",
       "..                                                 ...  \n",
       "129  POLYGON ((-80.78937 36.93296, -80.78924 36.932...  \n",
       "130  POLYGON ((-82.15786 37.11023, -82.15789 37.110...  \n",
       "131  POLYGON ((-80.97784 37.24880, -80.97939 37.250...  \n",
       "132  POLYGON ((-78.63061 36.72024, -78.63060 36.720...  \n",
       "133  POLYGON ((-81.20393 36.57193, -81.20432 36.571...  \n",
       "\n",
       "[134 rows x 21 columns]"
      ]
     },
     "execution_count": 11,
     "metadata": {},
     "output_type": "execute_result"
    }
   ],
   "source": [
    "gdb"
   ]
  },
  {
   "cell_type": "code",
   "execution_count": 14,
   "id": "0f3e7271-099a-4a34-87e7-7717181c9c04",
   "metadata": {},
   "outputs": [
    {
     "data": {
      "image/png": "[encoded data removed]",
      "text/plain": [
       "<Figure size 640x480 with 1 Axes>"
      ]
     },
     "metadata": {},
     "output_type": "display_data"
    }
   ],
   "source": [
    "gdb.plot()\n",
    "plt.show()"
   ]
  },
  {
   "cell_type": "code",
   "execution_count": 15,
   "id": "f1c82118-459b-4513-b455-0ee1a362a284",
   "metadata": {},
   "outputs": [
    {
     "data": {
      "text/plain": [
       "134"
      ]
     },
     "execution_count": 15,
     "metadata": {},
     "output_type": "execute_result"
    }
   ],
   "source": [
    "len(gdb)"
   ]
  },
  {
   "cell_type": "code",
   "execution_count": 17,
   "id": "d3571c81-152d-497d-b8cc-5d849b9cd072",
   "metadata": {},
   "outputs": [
    {
     "data": {
      "text/plain": [
       "'Richmond'"
      ]
     },
     "execution_count": 17,
     "metadata": {},
     "output_type": "execute_result"
    }
   ],
   "source": [
    "gdb.NAME[1]"
   ]
  },
  {
   "cell_type": "code",
   "execution_count": 18,
   "id": "6204fdc1-67f0-4bcd-b373-0fbf02fb6bfd",
   "metadata": {},
   "outputs": [],
   "source": [
    "for i in range(0, len(gdb)):\n",
    "    geo = gdb.geometry[i]\n",
    "    name = gdb.NAME[i]"
   ]
  },
  {
   "cell_type": "code",
   "execution_count": null,
   "id": "0d635ed4-9218-4ecd-a1b2-d8e2a618f495",
   "metadata": {},
   "outputs": [],
   "source": [
    "tmp_gdb = gdb.to_crs(crs)\n",
    "new_gdb = gdb1.to_crs(gdb2.crs)"
   ]
  }
 ],
 "metadata": {
  "kernelspec": {
   "display_name": "Python 3 (ipykernel)",
   "language": "python",
   "name": "python3"
  },
  "language_info": {
   "codemirror_mode": {
    "name": "ipython",
    "version": 3
   },
   "file_extension": ".py",
   "mimetype": "text/x-python",
   "name": "python",
   "nbconvert_exporter": "python",
   "pygments_lexer": "ipython3",
   "version": "3.9.13"
  }
 },
 "nbformat": 4,
 "nbformat_minor": 5
}
